{
 "cells": [
  {
   "cell_type": "code",
   "execution_count": 1,
   "id": "547a39d3",
   "metadata": {},
   "outputs": [
    {
     "name": "stdout",
     "output_type": "stream",
     "text": [
      "Defaulting to user installation because normal site-packages is not writeable\n",
      "Requirement already satisfied: pandas in c:\\users\\admin\\appdata\\local\\packages\\pythonsoftwarefoundation.python.3.13_qbz5n2kfra8p0\\localcache\\local-packages\\python313\\site-packages (2.3.2)\n",
      "Collecting matplotlib\n",
      "  Downloading matplotlib-3.10.6-cp313-cp313-win_amd64.whl.metadata (11 kB)\n",
      "Collecting seaborn\n",
      "  Downloading seaborn-0.13.2-py3-none-any.whl.metadata (5.4 kB)\n",
      "Requirement already satisfied: numpy>=1.26.0 in c:\\users\\admin\\appdata\\local\\packages\\pythonsoftwarefoundation.python.3.13_qbz5n2kfra8p0\\localcache\\local-packages\\python313\\site-packages (from pandas) (2.3.2)\n",
      "Requirement already satisfied: python-dateutil>=2.8.2 in c:\\users\\admin\\appdata\\local\\packages\\pythonsoftwarefoundation.python.3.13_qbz5n2kfra8p0\\localcache\\local-packages\\python313\\site-packages (from pandas) (2.9.0.post0)\n",
      "Requirement already satisfied: pytz>=2020.1 in c:\\users\\admin\\appdata\\local\\packages\\pythonsoftwarefoundation.python.3.13_qbz5n2kfra8p0\\localcache\\local-packages\\python313\\site-packages (from pandas) (2025.2)\n",
      "Requirement already satisfied: tzdata>=2022.7 in c:\\users\\admin\\appdata\\local\\packages\\pythonsoftwarefoundation.python.3.13_qbz5n2kfra8p0\\localcache\\local-packages\\python313\\site-packages (from pandas) (2025.2)\n",
      "Collecting contourpy>=1.0.1 (from matplotlib)\n",
      "  Downloading contourpy-1.3.3-cp313-cp313-win_amd64.whl.metadata (5.5 kB)\n",
      "Collecting cycler>=0.10 (from matplotlib)\n",
      "  Downloading cycler-0.12.1-py3-none-any.whl.metadata (3.8 kB)\n",
      "Collecting fonttools>=4.22.0 (from matplotlib)\n",
      "  Downloading fonttools-4.59.2-cp313-cp313-win_amd64.whl.metadata (111 kB)\n",
      "Collecting kiwisolver>=1.3.1 (from matplotlib)\n",
      "  Downloading kiwisolver-1.4.9-cp313-cp313-win_amd64.whl.metadata (6.4 kB)\n",
      "Requirement already satisfied: packaging>=20.0 in c:\\users\\admin\\appdata\\local\\packages\\pythonsoftwarefoundation.python.3.13_qbz5n2kfra8p0\\localcache\\local-packages\\python313\\site-packages (from matplotlib) (25.0)\n",
      "Requirement already satisfied: pillow>=8 in c:\\users\\admin\\appdata\\local\\packages\\pythonsoftwarefoundation.python.3.13_qbz5n2kfra8p0\\localcache\\local-packages\\python313\\site-packages (from matplotlib) (11.3.0)\n",
      "Collecting pyparsing>=2.3.1 (from matplotlib)\n",
      "  Downloading pyparsing-3.2.3-py3-none-any.whl.metadata (5.0 kB)\n",
      "Requirement already satisfied: six>=1.5 in c:\\users\\admin\\appdata\\local\\packages\\pythonsoftwarefoundation.python.3.13_qbz5n2kfra8p0\\localcache\\local-packages\\python313\\site-packages (from python-dateutil>=2.8.2->pandas) (1.17.0)\n",
      "Downloading matplotlib-3.10.6-cp313-cp313-win_amd64.whl (8.1 MB)\n",
      "   ---------------------------------------- 0.0/8.1 MB ? eta -:--:--\n",
      "   ------------------- -------------------- 3.9/8.1 MB 19.1 MB/s eta 0:00:01\n",
      "   ---------------------------------------- 8.1/8.1 MB 20.0 MB/s  0:00:00\n",
      "Downloading seaborn-0.13.2-py3-none-any.whl (294 kB)\n",
      "Downloading contourpy-1.3.3-cp313-cp313-win_amd64.whl (226 kB)\n",
      "Downloading cycler-0.12.1-py3-none-any.whl (8.3 kB)\n",
      "Downloading fonttools-4.59.2-cp313-cp313-win_amd64.whl (2.3 MB)\n",
      "   ---------------------------------------- 0.0/2.3 MB ? eta -:--:--\n",
      "   ---------------------------------------- 2.3/2.3 MB 22.4 MB/s  0:00:00\n",
      "Downloading kiwisolver-1.4.9-cp313-cp313-win_amd64.whl (73 kB)\n",
      "Downloading pyparsing-3.2.3-py3-none-any.whl (111 kB)\n",
      "Installing collected packages: pyparsing, kiwisolver, fonttools, cycler, contourpy, matplotlib, seaborn\n",
      "\n",
      "   ---------------------------------------- 0/7 [pyparsing]\n",
      "   ----------- ---------------------------- 2/7 [fonttools]\n",
      "   ----------- ---------------------------- 2/7 [fonttools]\n",
      "   ----------- ---------------------------- 2/7 [fonttools]\n",
      "   ----------- ---------------------------- 2/7 [fonttools]\n",
      "   ----------- ---------------------------- 2/7 [fonttools]\n",
      "   ----------- ---------------------------- 2/7 [fonttools]\n",
      "   ----------- ---------------------------- 2/7 [fonttools]\n",
      "   ----------- ---------------------------- 2/7 [fonttools]\n",
      "   ----------- ---------------------------- 2/7 [fonttools]\n",
      "   ----------- ---------------------------- 2/7 [fonttools]\n",
      "   ----------- ---------------------------- 2/7 [fonttools]\n",
      "   ----------- ---------------------------- 2/7 [fonttools]\n",
      "   ----------- ---------------------------- 2/7 [fonttools]\n",
      "   ----------- ---------------------------- 2/7 [fonttools]\n",
      "   ----------- ---------------------------- 2/7 [fonttools]\n",
      "   ----------- ---------------------------- 2/7 [fonttools]\n",
      "   ----------- ---------------------------- 2/7 [fonttools]\n",
      "   ----------- ---------------------------- 2/7 [fonttools]\n",
      "   ----------- ---------------------------- 2/7 [fonttools]\n",
      "   ----------- ---------------------------- 2/7 [fonttools]\n",
      "   ----------- ---------------------------- 2/7 [fonttools]\n",
      "   ----------- ---------------------------- 2/7 [fonttools]\n",
      "   ----------- ---------------------------- 2/7 [fonttools]\n",
      "   ----------- ---------------------------- 2/7 [fonttools]\n",
      "   ----------- ---------------------------- 2/7 [fonttools]\n",
      "   ----------- ---------------------------- 2/7 [fonttools]\n",
      "   ----------- ---------------------------- 2/7 [fonttools]\n",
      "   ----------- ---------------------------- 2/7 [fonttools]\n",
      "   ----------- ---------------------------- 2/7 [fonttools]\n",
      "   ---------------------- ----------------- 4/7 [contourpy]\n",
      "   ---------------------------- ----------- 5/7 [matplotlib]\n",
      "   ---------------------------- ----------- 5/7 [matplotlib]\n",
      "   ---------------------------- ----------- 5/7 [matplotlib]\n",
      "   ---------------------------- ----------- 5/7 [matplotlib]\n",
      "   ---------------------------- ----------- 5/7 [matplotlib]\n",
      "   ---------------------------- ----------- 5/7 [matplotlib]\n",
      "   ---------------------------- ----------- 5/7 [matplotlib]\n",
      "   ---------------------------- ----------- 5/7 [matplotlib]\n",
      "   ---------------------------- ----------- 5/7 [matplotlib]\n",
      "   ---------------------------- ----------- 5/7 [matplotlib]\n",
      "   ---------------------------- ----------- 5/7 [matplotlib]\n",
      "   ---------------------------- ----------- 5/7 [matplotlib]\n",
      "   ---------------------------- ----------- 5/7 [matplotlib]\n",
      "   ---------------------------- ----------- 5/7 [matplotlib]\n",
      "   ---------------------------- ----------- 5/7 [matplotlib]\n",
      "   ---------------------------- ----------- 5/7 [matplotlib]\n",
      "   ---------------------------- ----------- 5/7 [matplotlib]\n",
      "   ---------------------------- ----------- 5/7 [matplotlib]\n",
      "   ---------------------------- ----------- 5/7 [matplotlib]\n",
      "   ---------------------------- ----------- 5/7 [matplotlib]\n",
      "   ---------------------------- ----------- 5/7 [matplotlib]\n",
      "   ---------------------------- ----------- 5/7 [matplotlib]\n",
      "   ---------------------------- ----------- 5/7 [matplotlib]\n",
      "   ---------------------------- ----------- 5/7 [matplotlib]\n",
      "   ---------------------------- ----------- 5/7 [matplotlib]\n",
      "   ---------------------------- ----------- 5/7 [matplotlib]\n",
      "   ---------------------------- ----------- 5/7 [matplotlib]\n",
      "   ---------------------------- ----------- 5/7 [matplotlib]\n",
      "   ---------------------------- ----------- 5/7 [matplotlib]\n",
      "   ---------------------------- ----------- 5/7 [matplotlib]\n",
      "   ---------------------------------- ----- 6/7 [seaborn]\n",
      "   ---------------------------------- ----- 6/7 [seaborn]\n",
      "   ---------------------------------- ----- 6/7 [seaborn]\n",
      "   ---------------------------------- ----- 6/7 [seaborn]\n",
      "   ---------------------------------- ----- 6/7 [seaborn]\n",
      "   ---------------------------------------- 7/7 [seaborn]\n",
      "\n",
      "Successfully installed contourpy-1.3.3 cycler-0.12.1 fonttools-4.59.2 kiwisolver-1.4.9 matplotlib-3.10.6 pyparsing-3.2.3 seaborn-0.13.2\n",
      "Note: you may need to restart the kernel to use updated packages.\n"
     ]
    }
   ],
   "source": [
    "pip install pandas matplotlib seaborn\n"
   ]
  },
  {
   "cell_type": "code",
   "execution_count": 2,
   "id": "5c5ea806",
   "metadata": {},
   "outputs": [],
   "source": [
    "from pathlib import Path\n",
    "import re\n",
    "import pandas as pd\n",
    "import matplotlib.pyplot as plt\n",
    "import seaborn as sns"
   ]
  },
  {
   "cell_type": "code",
   "execution_count": 6,
   "id": "7972cffa",
   "metadata": {},
   "outputs": [],
   "source": [
    "AUG_DIR = Path(r\"C:\\Users\\ADMIN\\Downloads\\emotion classification\\data_emotions\")  # <-- change if needed\n",
    "CSV_IN  = Path(r\"C:\\Users\\ADMIN\\Downloads\\emotion classification\\data_emotions\\augmented\\train_with_aug.csv\")\n",
    "OUT_DIR = Path(r\"C:\\Users\\ADMIN\\Downloads\\emotion classification\\data_emotions\\augmented/EDA\"); \n",
    "OUT_DIR.mkdir(parents=True, exist_ok=True)\n"
   ]
  },
  {
   "cell_type": "code",
   "execution_count": 7,
   "id": "81aeaad3",
   "metadata": {},
   "outputs": [],
   "source": [
    "ORDERED_CLASSES = [\"happy\",\"sad\",\"anger\",\"neutral\",\"disgust\",\"surprise\",\"fear\"]\n",
    "SAVE_DPI = 180\n",
    "# ------------------------------------------\n",
    "\n",
    "sns.set_theme(style=\"whitegrid\", context=\"talk\")\n",
    "\n",
    "# --- Load & normalize columns ---\n",
    "df = pd.read_csv(CSV_IN)\n",
    "df.columns = [c.strip().lower() for c in df.columns]\n",
    "needed = {\"resolved_path\",\"image\",\"label\",\"label_norm\",\"label_id\"}\n",
    "missing = needed - set(df.columns)\n",
    "assert not missing, f\"CSV is missing columns: {missing}\"\n",
    "\n",
    "# --- Detect augmented rows & parse tags (matches the augment filename pattern we used) ---\n",
    "pat = re.compile(r\"_r(?P<rot>-?\\d+)_(?P<flip>hf|orig)_bc(?P<bc>[a-z]+)_c(?P<crop>\\d+)\", re.I)\n",
    "\n",
    "def parse_aug(name: str):\n",
    "    m = pat.search(name)\n",
    "    if not m:\n",
    "        return pd.Series({\"is_augmented\": False, \"rot\": None, \"flip\": None, \"bc\": None, \"crop\": None})\n",
    "    return pd.Series({\n",
    "        \"is_augmented\": True,\n",
    "        \"rot\": int(m.group(\"rot\")),\n",
    "        \"flip\": \"flipped\" if m.group(\"flip\").lower()==\"hf\" else \"original\",\n",
    "        \"bc\": m.group(\"bc\").lower(),        # dark / orig / bright\n",
    "        \"crop\": int(m.group(\"crop\"))\n",
    "    })\n",
    "\n",
    "tags = df[\"image\"].astype(str).apply(parse_aug)\n",
    "df = pd.concat([df, tags], axis=1)\n",
    "\n"
   ]
  },
  {
   "cell_type": "markdown",
   "id": "3cdb6e14",
   "metadata": {},
   "source": [
    "## Class counts "
   ]
  },
  {
   "cell_type": "code",
   "execution_count": 9,
   "id": "63ae80fd",
   "metadata": {},
   "outputs": [],
   "source": [
    "counts = (\n",
    "    df[\"label_norm\"].value_counts()\n",
    "      .reindex(ORDERED_CLASSES, fill_value=0)\n",
    "      .rename_axis(\"label_norm\")\n",
    "      .reset_index(name=\"count\")\n",
    ")\n",
    "plt.figure(figsize=(10,6))\n",
    "sns.barplot(data=counts, x=\"label_norm\", y=\"count\", order=ORDERED_CLASSES, edgecolor=\"black\", errorbar=None)\n",
    "plt.title(\"Class distribution (train_with_aug)\")\n",
    "plt.xlabel(\"Class\"); plt.ylabel(\"# images\")\n",
    "plt.tight_layout()\n",
    "plt.savefig(OUT_DIR / \"class_counts_bar.png\", dpi=SAVE_DPI); plt.close()\n"
   ]
  },
  {
   "cell_type": "markdown",
   "id": "ea6a4eb5",
   "metadata": {},
   "source": [
    "## Class percentage "
   ]
  },
  {
   "cell_type": "code",
   "execution_count": 10,
   "id": "ff2bb215",
   "metadata": {},
   "outputs": [],
   "source": [
    "counts[\"percent\"] = (counts[\"count\"] / counts[\"count\"].sum() * 100)\n",
    "plt.figure(figsize=(10,6))\n",
    "sns.barplot(data=counts, x=\"label_norm\", y=\"percent\", order=ORDERED_CLASSES, edgecolor=\"black\", errorbar=None)\n",
    "plt.title(\"Class distribution (%) (train_with_aug)\")\n",
    "plt.xlabel(\"Class\"); plt.ylabel(\"Percent\")\n",
    "plt.tight_layout()\n",
    "plt.savefig(OUT_DIR / \"class_percent_bar.png\", dpi=SAVE_DPI); plt.close()"
   ]
  },
  {
   "cell_type": "markdown",
   "id": "ab78df97",
   "metadata": {},
   "source": [
    "## Original vs Augmented per class"
   ]
  },
  {
   "cell_type": "code",
   "execution_count": 11,
   "id": "bec1fa85",
   "metadata": {},
   "outputs": [],
   "source": [
    "stack = (\n",
    "    df.groupby([\"label_norm\",\"is_augmented\"])\n",
    "      .size().reset_index(name=\"count\")\n",
    "      .assign(kind=lambda x: x[\"is_augmented\"].map({False:\"original\", True:\"augmented\"}))\n",
    ")\n",
    "stack[\"label_norm\"] = pd.Categorical(stack[\"label_norm\"], categories=ORDERED_CLASSES, ordered=True)\n",
    "plt.figure(figsize=(12,6))\n",
    "sns.barplot(data=stack, x=\"label_norm\", y=\"count\", hue=\"kind\", order=ORDERED_CLASSES,\n",
    "            edgecolor=\"black\", errorbar=None)\n",
    "plt.title(\"Original vs Augmented per class\")\n",
    "plt.xlabel(\"Class\"); plt.ylabel(\"# images\")\n",
    "plt.legend(title=\"\")\n",
    "plt.tight_layout()\n",
    "plt.savefig(OUT_DIR / \"orig_vs_aug_per_class.png\", dpi=SAVE_DPI); plt.close()\n"
   ]
  },
  {
   "cell_type": "code",
   "execution_count": null,
   "id": "26fb145b",
   "metadata": {},
   "outputs": [],
   "source": []
  }
 ],
 "metadata": {
  "kernelspec": {
   "display_name": "Python 3",
   "language": "python",
   "name": "python3"
  },
  "language_info": {
   "codemirror_mode": {
    "name": "ipython",
    "version": 3
   },
   "file_extension": ".py",
   "mimetype": "text/x-python",
   "name": "python",
   "nbconvert_exporter": "python",
   "pygments_lexer": "ipython3",
   "version": "3.13.7"
  }
 },
 "nbformat": 4,
 "nbformat_minor": 5
}
