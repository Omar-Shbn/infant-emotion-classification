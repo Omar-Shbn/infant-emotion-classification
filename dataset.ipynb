{
 "cells": [
  {
   "cell_type": "markdown",
   "id": "1ee06187",
   "metadata": {},
   "source": [
    "## imports"
   ]
  },
  {
   "cell_type": "code",
   "execution_count": 6,
   "id": "299ed9be",
   "metadata": {},
   "outputs": [],
   "source": [
    "from pathlib import Path\n",
    "import pandas as pd\n",
    "import numpy as np\n",
    "from sklearn.model_selection import StratifiedShuffleSplit\n",
    "import shutil\n",
    "import re"
   ]
  },
  {
   "cell_type": "code",
   "execution_count": null,
   "id": "38b57cc4",
   "metadata": {},
   "outputs": [],
   "source": [
    "IMAGES_DIR = Path(r\"C:\\Users\\ADMIN\\Downloads\\emotion classification\\Data\\images_renamed\")   # folder with  images\n",
    "CSV_PATH   = Path(r\"C:\\Users\\ADMIN\\Downloads\\emotion classification\\Data\\TIF_labels.xlsx\")  # CSV with columns: image,label\n",
    "OUTPUT_DIR = Path(r\"C:\\Users\\ADMIN\\Downloads\\emotion classification\\Data\\data_emotions\")   # where splits/CSVs (and optional folders) go\n",
    "\n",
    "# split ratios\n",
    "TRAIN_RATIO, VAL_RATIO, TEST_RATIO = 0.70, 0.15, 0.15  # must sum to 1\n",
    "\n",
    "# If your CSV image IDs don't include extensions, we’ll search these:\n",
    "ALLOWED_EXTS = [\".jpg\", \".jpeg\", \".png\", \".bmp\", \".tif\", \".tiff\", \".webp\"]\n",
    "\n",
    "# If original filenames have suffixes (e.g., \"...-4317HA\") but your CSV has \"...-4317\",\n",
    "# set this to True to allow prefix matches when exact matches fail:\n",
    "ALLOW_PREFIX_MATCH = True\n",
    "\n",
    "# If True, also copy files into ImageNet-style folders data/{split}/{label}/img.jpg\n",
    "MAKE_CLASS_FOLDERS = False\n",
    "# ======================\n",
    "\n",
    "# Standardize class names (case-insensitive) to your 7 classes\n",
    "CANONICAL = {\n",
    "    \"happy\": \"happy\",\n",
    "    \"sad\": \"sad\",\n",
    "    \"anger\": \"anger\",\n",
    "    \"angry\": \"anger\",\n",
    "    \"neutral\": \"neutral\",\n",
    "    \"disgust\": \"disgust\",\n",
    "    \"surprise\": \"surprise\",\n",
    "    \"surprised\": \"surprise\",\n",
    "    \"fear\": \"fear\",\n",
    "    \"scared\": \"fear\",\n",
    "}\n"
   ]
  }
 ],
 "metadata": {
  "kernelspec": {
   "display_name": "Python 3",
   "language": "python",
   "name": "python3"
  },
  "language_info": {
   "codemirror_mode": {
    "name": "ipython",
    "version": 3
   },
   "file_extension": ".py",
   "mimetype": "text/x-python",
   "name": "python",
   "nbconvert_exporter": "python",
   "pygments_lexer": "ipython3",
   "version": "3.13.7"
  }
 },
 "nbformat": 4,
 "nbformat_minor": 5
}
