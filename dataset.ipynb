{
 "cells": [
  {
   "cell_type": "code",
   "execution_count": 3,
   "id": "f706fe05",
   "metadata": {},
   "outputs": [],
   "source": [
    "import os\n",
    "import json\n",
    "import shutil\n",
    "from pathlib import Path\n",
    "\n",
    "import pandas as pd\n",
    "from sklearn.model_selection import train_test_split\n",
    "from tqdm import tqdm\n",
    "\n",
    "SUPPORTED_EXTS = [\".jpg\", \".jpeg\", \".png\", \".bmp\", \".webp\"]\n"
   ]
  },
  {
   "cell_type": "code",
   "execution_count": 5,
   "id": "8a0a3baa",
   "metadata": {},
   "outputs": [],
   "source": [
    "def find_image_for_id(images_dir: Path, img_id: str):\n",
    "    \"\"\"Try exact filename with common extensions, else wildcard id.*\"\"\"\n",
    "    for ext in SUPPORTED_EXTS:\n",
    "        p = images_dir / f\"{img_id}{ext}\"\n",
    "        if p.exists():\n",
    "            return p\n",
    "    # also try case-insensitive / any file starting with id + dot\n",
    "    candidates = list(images_dir.glob(f\"{img_id}.*\"))\n",
    "    return candidates[0] if candidates else None\n"
   ]
  }
 ],
 "metadata": {
  "kernelspec": {
   "display_name": "Python 3",
   "language": "python",
   "name": "python3"
  },
  "language_info": {
   "codemirror_mode": {
    "name": "ipython",
    "version": 3
   },
   "file_extension": ".py",
   "mimetype": "text/x-python",
   "name": "python",
   "nbconvert_exporter": "python",
   "pygments_lexer": "ipython3",
   "version": "3.13.7"
  }
 },
 "nbformat": 4,
 "nbformat_minor": 5
}
